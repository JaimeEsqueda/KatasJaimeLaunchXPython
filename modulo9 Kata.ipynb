{
  "cells": [
    {
      "cell_type": "markdown",
      "metadata": {},
      "source": [
        "Ejercicio 1"
      ]
    },
    {
      "cell_type": "code",
      "execution_count": 9,
      "metadata": {},
      "outputs": [],
      "source": [
        "# Función para leer 3 tanques de combustible y muestre el promedio\n",
        "\n",
        "def tanques_combustible(tanque1, tanque2, tanque3):\n",
        "    promedio_total = (tanque1 + tanque2 + tanque3) / 3\n",
        "    return f\"\"\"Reporte de combustible:\n",
        "    Promedio Total: {promedio_total}\n",
        "    tanque 1: {tanque1}\n",
        "    tanque 2: {tanque2}\n",
        "    tanque 3: {tanque3}\n",
        "    \"\"\"\n"
      ]
    },
    {
      "cell_type": "code",
      "execution_count": 10,
      "metadata": {},
      "outputs": [
        {
          "name": "stdout",
          "output_type": "stream",
          "text": [
            "Fuel Report:\n",
            "    Promedio Total: 25.0\n",
            "    tanque 1: 30\n",
            "    tanque 2: 20\n",
            "    tanque 3: 25\n",
            "    \n"
          ]
        }
      ],
      "source": [
        "# Llamamos a la función que genera el reporte print(funcion(tanque1, tanque2, tanque3))\n",
        "print(tanques_combustible(30, 20, 25))"
      ]
    },
    {
      "cell_type": "code",
      "execution_count": 11,
      "metadata": {},
      "outputs": [
        {
          "data": {
            "text/plain": [
              "82.0"
            ]
          },
          "execution_count": 11,
          "metadata": {},
          "output_type": "execute_result"
        }
      ],
      "source": [
        "# Función promedio \n",
        "def promedio(valores):\n",
        "    total = sum(valores)\n",
        "    numero_valores = len(valores)\n",
        "    return total / numero_valores\n",
        "\n",
        "# Test the averaging function with a list of integers:\n",
        "promedio([80, 85, 81]) "
      ]
    },
    {
      "cell_type": "code",
      "execution_count": 13,
      "metadata": {},
      "outputs": [
        {
          "name": "stdout",
          "output_type": "stream",
          "text": [
            "Reporte de combustible:\n",
            "    promedio total: 78.0%\n",
            "    tanque 1: 88%\n",
            "    tanque 2: 76%\n",
            "    tanque 3: 70% \n",
            "    \n"
          ]
        }
      ],
      "source": [
        "# Actualiza la función\n",
        "def tanques_combustible(tanque1, tanque2, tanque3):\n",
        "    return f\"\"\"Reporte de combustible:\n",
        "    promedio total: {promedio([tanque1, tanque2, tanque3])}%\n",
        "    tanque 1: {tanque1}%\n",
        "    tanque 2: {tanque2}%\n",
        "    tanque 3: {tanque3}% \n",
        "    \"\"\"\n",
        "\n",
        "# Call the updated function again with different values\n",
        "print(tanques_combustible(88, 76, 70))"
      ]
    },
    {
      "cell_type": "markdown",
      "metadata": {},
      "source": [
        "### Ejercicio 2:"
      ]
    },
    {
      "cell_type": "code",
      "execution_count": 16,
      "metadata": {},
      "outputs": [
        {
          "name": "stdout",
          "output_type": "stream",
          "text": [
            "\n",
            "    Mision con destino a Tierra\n",
            "    Tiempo total de viaje: 107 minutos\n",
            "    Combustible total consumido: 43000 galones\n",
            "    \n"
          ]
        }
      ],
      "source": [
        "# Función con un informe preciso de la misión. Considera hora de prelanzamiento, tiempo de vuelo, destino, tanque externo y tanque interno\n",
        "\n",
        "def reporte_mision(prelanzamiento, Tiempo_vuelo, destino, tanque_externo, tanque_interno):\n",
        "    return f\"\"\"\n",
        "    Mision con destino a {destino}\n",
        "    Tiempo total de viaje: {prelanzamiento + Tiempo_vuelo} minutos\n",
        "    Combustible total consumido: {tanque_externo + tanque_interno} galones\n",
        "    \"\"\"\n",
        "\n",
        "print(reporte_mision(5, 102, \"Tierra\", 3000, 40000))"
      ]
    },
    {
      "cell_type": "code",
      "execution_count": 18,
      "metadata": {},
      "outputs": [
        {
          "name": "stdout",
          "output_type": "stream",
          "text": [
            "\n",
            "    Mision con destino a Tierra\n",
            "    Tiempo total de viaje: 76 minutos\n",
            "    Combustible total consumido: 500000\n",
            "    \n"
          ]
        }
      ],
      "source": [
        "# Escribe tu nueva función de reporte considerando lo anterior\n",
        "\n",
        "def reporte_mision(destino, *minutos, **reserva_combustible):\n",
        "    return f\"\"\"\n",
        "    Mision con destino a {destino}\n",
        "    Tiempo total de viaje: {sum(minutos)} minutos\n",
        "    Combustible total consumido: {sum(reserva_combustible.values())}\n",
        "    \"\"\"\n",
        "\n",
        "print(reporte_mision(\"Tierra\", 10, 15, 51, interno=300000, externo=200000))"
      ]
    },
    {
      "cell_type": "code",
      "execution_count": 22,
      "metadata": {},
      "outputs": [
        {
          "name": "stdout",
          "output_type": "stream",
          "text": [
            "\n",
            "    Mision con destino a Tierra\n",
            "    Tiempo total de viaje: 74 minutos\n",
            "    Combustible total consumido: 500000\n",
            "    tanque interno  --> 300000 gallons left\n",
            "tanque externo  --> 200000 gallons left\n",
            "\n"
          ]
        }
      ],
      "source": [
        "# Escribe tu nueva función\n",
        "\n",
        "def reporte_mision(destino, *minutos, **reserva_combustible):\n",
        "    reporte_interno = f\"\"\"\n",
        "    Mision con destino a {destino}\n",
        "    Tiempo total de viaje: {sum(minutos)} minutos\n",
        "    Combustible total consumido: {sum(reserva_combustible.values())}\n",
        "    \"\"\"\n",
        "    for tanque1, gallons in reserva_combustible.items():\n",
        "        reporte_interno += f\"tanque {tanque1}  --> {gallons} gallons left\\n\"\n",
        "    return reporte_interno\n",
        "\n",
        "print(reporte_mision(\"Tierra\", 8, 11, 55, interno=300000, externo=200000))"
      ]
    }
  ],
  "metadata": {
    "interpreter": {
      "hash": "205095b8b86ea82a021a8fc2ffba2b3bc9f8d0be25999901963b225939f75778"
    },
    "kernelspec": {
      "display_name": "Python 3.8.10 64-bit ('tmp': conda)",
      "name": "python3"
    },
    "language_info": {
      "codemirror_mode": {
        "name": "ipython",
        "version": 3
      },
      "file_extension": ".py",
      "mimetype": "text/x-python",
      "name": "python",
      "nbconvert_exporter": "python",
      "pygments_lexer": "ipython3",
      "version": "3.10.2"
    },
    "nteract": {
      "version": "nteract-front-end@1.0.0"
    },
    "orig_nbformat": 4
  },
  "nbformat": 4,
  "nbformat_minor": 2
}
