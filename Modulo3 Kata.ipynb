{
 "cells": [
  {
   "cell_type": "markdown",
   "metadata": {},
   "source": [
    "Asteroide se acerca a la Tierra demasiado rapido"
   ]
  },
  {
   "cell_type": "markdown",
   "metadata": {},
   "source": [
    "Problema 1"
   ]
  },
  {
   "cell_type": "code",
   "execution_count": 1,
   "metadata": {},
   "outputs": [
    {
     "name": "stdout",
     "output_type": "stream",
     "text": [
      "¡Alerta! ¡Un asteroide se acerca a la Tierra demasiado rapido!\n"
     ]
    }
   ],
   "source": [
    "# Añadir el código necesario para crear una variable que guarde la velocidad del asteroide.\n",
    "# Escribe una expresión de prueba para calcular si necesita una advertencia.\n",
    "# Agregue las instrucciones que se ejecutarán si la expresión de prueba es true o false.\n",
    "\n",
    "asteroide = 49\n",
    "if asteroide > 25:\n",
    "    print('¡Alerta! Un asteroide se acerca a la Tierra demasiado rapido')\n",
    "else:\n",
    "    print('Adelante, no hay advertencias')"
   ]
  },
  {
   "cell_type": "markdown",
   "metadata": {},
   "source": [
    "Problema 2"
   ]
  },
  {
   "cell_type": "code",
   "execution_count": 7,
   "metadata": {},
   "outputs": [
    {
     "name": "stdout",
     "output_type": "stream",
     "text": [
      "Adelante, no hay advertencias\n"
     ]
    }
   ],
   "source": [
    "# Agrega el código para crear una variable para un asteroide que viaja a 19 km/s\n",
    "# Escribe varias expresiones de prueba para determinar si puedes ver el rayo de luz desde la tierra\n",
    "# Agrega las instrucciones que se ejecutarán si las expresiones de prueba son True o False\n",
    "\n",
    "asteroide = 19\n",
    "if asteroide >= 20:\n",
    "    print('¡Advertencia! Un asteroide puede producir un rayo de luz por su velocidad')\n",
    "else:\n",
    "    print('Adelante, no hay advertencias')"
   ]
  },
  {
   "cell_type": "code",
   "execution_count": 12,
   "metadata": {},
   "outputs": [
    {
     "name": "stdout",
     "output_type": "stream",
     "text": [
      "¡Alerta! Un asteroide se acerca a la Tierra demasiado rapido\n"
     ]
    }
   ],
   "source": [
    "# Agrega el código para crear nuevas variables para la velocidad y el tamaño del asteroide\n",
    "# Para probar el código, prueba con varias velocidades y tamaños\n",
    "# Escribe varias expresiones de prueba o combinaciones de expresiones de prueba para determinar qué mensaje se debe enviar a Tierra.\n",
    "velocidad_asteroide = 28 \n",
    "tamano_asteroide=23\n",
    "if velocidad_asteroide > 25 and  tamano_asteroide>25:\n",
    "    print('Alerta, se acerca un asteroide demasiado rapido y demasiado grande, producira mucho daño')\n",
    "elif velocidad_asteroide > 25 and  tamano_asteroide<=25:\n",
    "     print('¡Alerta! Un asteroide se acerca a la Tierra demasiado rapido')\n",
    "elif 20<=velocidad_asteroide<=25 :\n",
    "    print('¡Advertencia! Un asteroide puede producir un rayo de luz por su velocidad')\n",
    "else:\n",
    "    print('Adelante, no hay advertencias')"
   ]
  }
 ],
 "metadata": {
  "interpreter": {
   "hash": "418cd6cdca33b967ac9d9da7429cb43e63d9df2bdab43c9c8a0dd7f454cc990a"
  },
  "kernelspec": {
   "display_name": "Python 3.9.5 64-bit",
   "language": "python",
   "name": "python3"
  },
  "language_info": {
   "codemirror_mode": {
    "name": "ipython",
    "version": 3
   },
   "file_extension": ".py",
   "mimetype": "text/x-python",
   "name": "python",
   "nbconvert_exporter": "python",
   "pygments_lexer": "ipython3",
   "version": "3.10.2"
  },
  "orig_nbformat": 4
 },
 "nbformat": 4,
 "nbformat_minor": 2
}
