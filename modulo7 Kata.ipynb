{
 "cells": [
  {
   "cell_type": "markdown",
   "metadata": {},
   "source": [
    "Variables"
   ]
  },
  {
   "cell_type": "code",
   "execution_count": 3,
   "metadata": {},
   "outputs": [],
   "source": [
    "new_planet=''\n",
    "planets = []\n"
   ]
  },
  {
   "cell_type": "code",
   "execution_count": 4,
   "metadata": {},
   "outputs": [
    {
     "name": "stdout",
     "output_type": "stream",
     "text": [
      "['Mercury']\n",
      "['Mercury', 'Venus']\n",
      "['Mercury', 'Venus', 'Earth']\n",
      "['Mercury', 'Venus', 'Earth', 'Mars']\n",
      "['Mercury', 'Venus', 'Earth', 'Mars', 'Jupyter']\n",
      "['Mercury', 'Venus', 'Earth', 'Mars', 'Jupyter', 'Saturne']\n",
      "['Mercury', 'Venus', 'Earth', 'Mars', 'Jupyter', 'Saturne', 'Uranus']\n",
      "['Mercury', 'Venus', 'Earth', 'Mars', 'Jupyter', 'Saturne', 'Uranus', 'Neptune']\n"
     ]
    }
   ],
   "source": [
    "\n",
    "# Ciclo while\n",
    "while new_planet.lower() != 'done':\n",
    "    if new_planet:                                                      # Verify if there is any planet\n",
    "        planets.append(new_planet)                                      # Store that value in the list\n",
    "        print(planets)                                                  # Print planets\n",
    "    new_planet = input('Enter a new value, or done when done')          # Capture a new value"
   ]
  },
  {
   "cell_type": "code",
   "execution_count": 7,
   "metadata": {},
   "outputs": [
    {
     "name": "stdout",
     "output_type": "stream",
     "text": [
      "Mercury\n",
      "Venus\n",
      "Earth\n",
      "Mars\n",
      "Jupyter\n",
      "Saturne\n",
      "Uranus\n",
      "Neptune\n",
      "Remember that Pluton is not really a planet 🚀\n"
     ]
    }
   ],
   "source": [
    "#Ciclo For\n",
    "\n",
    "\n",
    "\n",
    "from time import sleep                  # Import the class sleep\n",
    "\n",
    "for each_planet in planets:             # For each planet in planets\n",
    "    print(each_planet)                  # print the planet at the moment\n",
    "    sleep(1.2)                          # Wait for 1.2 seconds\n",
    "print(\"Remember that Pluton is not really a planet 🚀\")"
   ]
  }
 ],
 "metadata": {
  "interpreter": {
   "hash": "3a85d6d6e39352436bd01e6af66cb3e76e15156439e9ccfac1a5bebb7116d0f6"
  },
  "kernelspec": {
   "display_name": "Python 3.10.2 64-bit (windows store)",
   "language": "python",
   "name": "python3"
  },
  "language_info": {
   "codemirror_mode": {
    "name": "ipython",
    "version": 3
   },
   "file_extension": ".py",
   "mimetype": "text/x-python",
   "name": "python",
   "nbconvert_exporter": "python",
   "pygments_lexer": "ipython3",
   "version": "3.10.2"
  },
  "orig_nbformat": 4
 },
 "nbformat": 4,
 "nbformat_minor": 2
}
